{
 "cells": [
  {
   "cell_type": "markdown",
   "metadata": {},
   "source": [
    "## Importing Libraries "
   ]
  },
  {
   "cell_type": "code",
   "execution_count": null,
   "metadata": {
    "vscode": {
     "languageId": "plaintext"
    }
   },
   "outputs": [],
   "source": [
    "import random\n",
    "import numpy as np\n",
    "import matplotlib.pyplot as plt\n",
    "from matplotlib.animation import FuncAnimation"
   ]
  },
  {
   "cell_type": "code",
   "execution_count": null,
   "metadata": {
    "vscode": {
     "languageId": "plaintext"
    }
   },
   "outputs": [],
   "source": [
    "NUM_SIMULATIONS = 10000  \n",
    "NUM_ROLLS = 100          \n",
    "FALL_PROB = 0.001        "
   ]
  },
  {
   "cell_type": "markdown",
   "metadata": {},
   "source": [
    "## Monte-carlo simulation"
   ]
  },
  {
   "cell_type": "code",
   "execution_count": null,
   "metadata": {
    "vscode": {
     "languageId": "plaintext"
    }
   },
   "outputs": [],
   "source": [
    "def single_random_walk(num_rolls=NUM_ROLLS):\n",
    "    \"\"\"Simulate a single random walk using the game's rules.\"\"\"\n",
    "    step = 0\n",
    "    steps = [step]  # Keep track of each step for animation\n",
    "    for _ in range(num_rolls):\n",
    "        dice = random.randint(1, 6)\n",
    "        if dice in [1, 2]:\n",
    "            step = max(0, step - 1)  # Step down\n",
    "        elif dice in [3, 4, 5]:\n",
    "            step += 1  # Step up\n",
    "        elif dice == 6:\n",
    "            step += random.randint(1, 6)  # Throw again and step up\n",
    "        if random.random() < FALL_PROB:\n",
    "            step = 0  # Fall to step 0\n",
    "        steps.append(step)\n",
    "    return step, steps"
   ]
  },
  {
   "cell_type": "markdown",
   "metadata": {},
   "source": [
    "## Random-walks"
   ]
  },
  {
   "cell_type": "code",
   "execution_count": null,
   "metadata": {
    "vscode": {
     "languageId": "plaintext"
    }
   },
   "outputs": [],
   "source": [
    "def simulate_random_walks(num_simulations=NUM_SIMULATIONS):\n",
    "    \"\"\"Simulate multiple random walks and return the results.\"\"\"\n",
    "    final_steps = []\n",
    "    all_walks = []\n",
    "    for _ in range(num_simulations):\n",
    "        final_step, steps = single_random_walk()\n",
    "        final_steps.append(final_step)\n",
    "        all_walks.append(steps)\n",
    "    return final_steps, all_walks"
   ]
  },
  {
   "cell_type": "markdown",
   "metadata": {},
   "source": [
    "## Dynamic Visualization"
   ]
  },
  {
   "cell_type": "code",
   "execution_count": null,
   "metadata": {
    "vscode": {
     "languageId": "plaintext"
    }
   },
   "outputs": [],
   "source": [
    "def animate_random_walk(steps, target_step):\n",
    "    \"\"\"Animate a single random walk.\"\"\"\n",
    "    fig, ax = plt.subplots()\n",
    "    ax.set_xlim(0, len(steps))\n",
    "    ax.set_ylim(0, max(steps) + 10)\n",
    "    line, = ax.plot([], [], lw=2, color='blue')\n",
    "    target_line = ax.axhline(y=target_step, color='red', linestyle='dashed', linewidth=1.5, label=f\"Target Step ({target_step})\")\n",
    "    ax.legend()\n",
    "\n",
    "    def init():\n",
    "        line.set_data([], [])\n",
    "        return line, target_line\n",
    "\n",
    "    def update(frame):\n",
    "        x = list(range(frame))\n",
    "        y = steps[:frame]\n",
    "        line.set_data(x, y)\n",
    "        return line, target_line\n",
    "\n",
    "    ani = FuncAnimation(fig, update, frames=len(steps), init_func=init, blit=True, interval=50, repeat=False)\n",
    "    plt.show()"
   ]
  },
  {
   "cell_type": "markdown",
   "metadata": {},
   "source": [
    "## Plot Distribution and Stats"
   ]
  },
  {
   "cell_type": "code",
   "execution_count": null,
   "metadata": {
    "vscode": {
     "languageId": "plaintext"
    }
   },
   "outputs": [],
   "source": [
    "def plot_distribution_with_stats(final_steps, target_step):\n",
    "    \"\"\"Plot the distribution of final steps along with statistical metrics.\"\"\"\n",
    "    # Calculate statistics\n",
    "    probability = sum(1 for step in final_steps if step >= target_step) / NUM_SIMULATIONS\n",
    "    mean_step = np.mean(final_steps)\n",
    "    std_dev = np.std(final_steps)\n",
    "    variance = np.var(final_steps)\n",
    "\n",
    "    # Create a new figure for the distribution and statistics\n",
    "    fig, (ax1, ax2) = plt.subplots(1, 2, figsize=(12, 6))\n",
    "    fig.suptitle(\"Random Walk Statistics and Distribution\", fontsize=16)\n",
    "\n",
    "    # Plot the histogram\n",
    "    ax1.hist(final_steps, bins=range(0, max(final_steps) + 1, 1), color='blue', edgecolor='black', alpha=0.7)\n",
    "    ax1.axvline(target_step, color='gold', linestyle='dashed', linewidth=2, label=f\"Target Step ({target_step})\")\n",
    "    ax1.set_title(\"Distribution of Final Steps\")\n",
    "    ax1.set_xlabel(\"Final Step\")\n",
    "    ax1.set_ylabel(\"Frequency\")\n",
    "    ax1.legend()\n",
    "\n",
    "    # Display statistics as text\n",
    "    stats_text = (\n",
    "        f\"Statistical Metrics:\\n\\n\"\n",
    "        f\"Probability of reaching at least {target_step} steps: {probability:.2%}\\n\"\n",
    "        f\"Mean of final steps: {mean_step:.2f}\\n\"\n",
    "        f\"Standard deviation of final steps: {std_dev:.2f}\\n\"\n",
    "        f\"Variance of final steps: {variance:.2f}\"\n",
    "    )\n",
    "    ax2.axis(\"off\")  # Turn off the axis\n",
    "    ax2.text(0.1, 0.5, stats_text, fontsize=12, verticalalignment=\"center\", transform=ax2.transAxes)\n",
    "\n",
    "    # Show the plot\n",
    "    plt.tight_layout()\n",
    "    plt.show()"
   ]
  },
  {
   "cell_type": "markdown",
   "metadata": {},
   "source": [
    "## Main Code "
   ]
  },
  {
   "cell_type": "code",
   "execution_count": null,
   "metadata": {
    "vscode": {
     "languageId": "plaintext"
    }
   },
   "outputs": [],
   "source": [
    "if __name__ == \"__main__\":\n",
    "    target_step = int(input(\"Enter the target step you want to reach (e.g., 60): \"))\n",
    "    print(\"Simulating random walks...\")\n",
    "    final_steps, all_walks = simulate_random_walks()\n",
    "    print(\"Visualizing a single random walk...\")\n",
    "    animate_random_walk(all_walks[0], target_step)\n",
    "    print(\"Plotting distribution and statistics...\")\n",
    "    plot_distribution_with_stats(final_steps, target_step)"
   ]
  }
 ],
 "metadata": {
  "language_info": {
   "name": "python"
  }
 },
 "nbformat": 4,
 "nbformat_minor": 2
}
